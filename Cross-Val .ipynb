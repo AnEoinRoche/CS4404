{
 "cells": [
  {
   "cell_type": "code",
   "execution_count": 1,
   "metadata": {},
   "outputs": [],
   "source": [
    "from sklearn.datasets import load_iris\n",
    "from sklearn import svm\n",
    "from sklearn.linear_model import LogisticRegression\n",
    "from sklearn.model_selection import cross_val_score\n",
    "from sklearn import metrics, linear_model\n",
    "from scipy.stats import uniform\n",
    "from sklearn.model_selection import RandomizedSearchCV, GridSearchCV\n",
    "from sklearn.model_selection import train_test_split\n",
    "from sklearn.metrics import classification_report\n",
    "from sklearn.svm import SVC\n",
    "from scipy.stats import randint as sp_randint\n",
    "from sklearn.ensemble import RandomForestClassifier\n",
    "from time import time\n",
    "import matplotlib.pyplot as plt\n",
    "import pandas as pd"
   ]
  },
  {
   "cell_type": "code",
   "execution_count": 29,
   "metadata": {
    "scrolled": true
   },
   "outputs": [
    {
     "ename": "TypeError",
     "evalue": "'tuple' object is not callable",
     "output_type": "error",
     "traceback": [
      "\u001b[0;31m---------------------------------------------------------------------------\u001b[0m",
      "\u001b[0;31mTypeError\u001b[0m                                 Traceback (most recent call last)",
      "\u001b[0;32m<ipython-input-29-697e7a08196b>\u001b[0m in \u001b[0;36m<module>\u001b[0;34m()\u001b[0m\n\u001b[1;32m     14\u001b[0m \u001b[0mbank\u001b[0m \u001b[0;34m=\u001b[0m \u001b[0mpd\u001b[0m\u001b[0;34m.\u001b[0m\u001b[0mread_csv\u001b[0m\u001b[0;34m(\u001b[0m\u001b[0;34m'bank.csv'\u001b[0m\u001b[0;34m)\u001b[0m\u001b[0;34m\u001b[0m\u001b[0m\n\u001b[1;32m     15\u001b[0m \u001b[0mcars\u001b[0m\u001b[0;34m.\u001b[0m\u001b[0mhead\u001b[0m\u001b[0;34m(\u001b[0m\u001b[0;34m)\u001b[0m\u001b[0;34m\u001b[0m\u001b[0m\n\u001b[0;32m---> 16\u001b[0;31m \u001b[0;32mprint\u001b[0m \u001b[0mcars\u001b[0m\u001b[0;34m.\u001b[0m\u001b[0mshape\u001b[0m\u001b[0;34m(\u001b[0m\u001b[0;34m)\u001b[0m\u001b[0;34m\u001b[0m\u001b[0m\n\u001b[0m\u001b[1;32m     17\u001b[0m \u001b[0;34m\u001b[0m\u001b[0m\n\u001b[1;32m     18\u001b[0m \u001b[0mclf\u001b[0m \u001b[0;34m=\u001b[0m \u001b[0msvm\u001b[0m\u001b[0;34m.\u001b[0m\u001b[0mSVC\u001b[0m\u001b[0;34m(\u001b[0m\u001b[0mkernel\u001b[0m \u001b[0;34m=\u001b[0m \u001b[0;34m'linear'\u001b[0m\u001b[0;34m,\u001b[0m \u001b[0mC\u001b[0m\u001b[0;34m=\u001b[0m\u001b[0;36m1\u001b[0m\u001b[0;34m)\u001b[0m\u001b[0;34m\u001b[0m\u001b[0m\n",
      "\u001b[0;31mTypeError\u001b[0m: 'tuple' object is not callable"
     ]
    }
   ],
   "source": [
    "from sklearn.datasets import load_iris\n",
    "iris = load_iris()\n",
    "\n",
    "from sklearn.datasets import load_digits\n",
    "digits = load_digits()\n",
    "\n",
    "from sklearn.datasets import load_wine\n",
    "wine = load_wine()\n",
    "\n",
    "from sklearn.datasets import load_breast_cancer\n",
    "cancer = load_breast_cancer()\n",
    "\n",
    "cars = pd.read_csv('car.data')\n",
    "bank = pd.read_csv('bank.csv')\n",
    "\n",
    "\n",
    "clf = svm.SVC(kernel = 'linear', C=1)\n",
    "scores = cross_val_score(clf, iris.data, iris.target, cv = 5)\n"
   ]
  },
  {
   "cell_type": "code",
   "execution_count": null,
   "metadata": {},
   "outputs": [],
   "source": []
  },
  {
   "cell_type": "code",
   "execution_count": 51,
   "metadata": {},
   "outputs": [],
   "source": [
    "def testGrid(dataset):\n",
    "    result = []\n",
    "    n_samples = len(dataset.data)\n",
    "    X = dataset.data.reshape((n_samples, -1))\n",
    "    y = dataset.target\n",
    "    # Split the dataset in two equal parts\n",
    "    X_train, X_test, y_train, y_test = train_test_split(\n",
    "        X, y, test_size=0.5, random_state=0)\n",
    "\n",
    "    # Set the parameters by cross-validation\n",
    "    tuned_parameters = [{'kernel': ['rbf'], 'gamma': [1e-3, 1e-4],\n",
    "                         'C': [1, 10, 100, 1000]},\n",
    "                        {'kernel': ['linear'], 'C': [1, 10, 100, 1000]}]\n",
    "\n",
    "    scores = ['precision', 'recall']\n",
    "\n",
    "    for score in scores:\n",
    "        print(\"# Tuning hyper-parameters for %s\" % score)\n",
    "        print()\n",
    "        \n",
    "        clf = GridSearchCV(SVC(), tuned_parameters, cv=5,\n",
    "                       scoring='%s_macro' % score)\n",
    "        start = time()\n",
    "        clf.fit(X_train, y_train)\n",
    "\n",
    "        print(\"Best parameters set found on development set:\")\n",
    "        print()\n",
    "        print(clf.best_params_)\n",
    "        print(\"Grid scores on development set:\")\n",
    "        print()\n",
    "        means = clf.cv_results_['mean_test_score']\n",
    "        stds = clf.cv_results_['std_test_score']\n",
    "        for mean, std, params in zip(means, stds, clf.cv_results_['params']):\n",
    "            print(\"%0.3f (+/-%0.03f) for %r\"\n",
    "                  % (mean, std * 2, params))\n",
    "        print()\n",
    "\n",
    "        y_true, y_pred = y_test, clf.predict(X_test)\n",
    "        print(classification_report(y_true, y_pred))\n",
    "        print()\n",
    "        print(\"In time = %0.3f\" % (time() - start) )\n",
    "        result = [means, stds, (time()-start)]\n",
    "    return result"
   ]
  },
  {
   "cell_type": "code",
   "execution_count": 52,
   "metadata": {},
   "outputs": [],
   "source": [
    "def testRandom(dataset):\n",
    "    result = []\n",
    "    n_samples = len(dataset.data)\n",
    "    X = dataset.data.reshape((n_samples, -1))\n",
    "    y = dataset.target\n",
    "\n",
    "    # Split the dataset in two equal parts\n",
    "    X_train, X_test, y_train, y_test = train_test_split(\n",
    "        X, y, test_size=0.5, random_state=0)\n",
    "    \n",
    "    param_dist = {\"max_depth\": [3, None],\n",
    "              \"max_features\": sp_randint(1, 11),\n",
    "              \"min_samples_split\": sp_randint(2, 11),\n",
    "              \"bootstrap\": [True, False],\n",
    "              \"criterion\": [\"gini\", \"entropy\"]}\n",
    "    scores = ['precision', 'recall']\n",
    "    for score in scores:\n",
    "        print(\"# Tuning hyper-parameters for %s\" % score)\n",
    "        print()\n",
    "\n",
    "        n_iter_search = 20\n",
    "        clf = RandomizedSearchCV(RandomForestClassifier(n_estimators=20), param_distributions=param_dist,\n",
    "                                       n_iter=n_iter_search, cv=5)\n",
    "        start = time()\n",
    "        clf.fit(X_train, y_train)\n",
    "        print(\"Grid scores on development set:\")\n",
    "        print()\n",
    "        means = clf.cv_results_['mean_test_score']\n",
    "        stds = clf.cv_results_['std_test_score']\n",
    "        \n",
    "        for mean, std, params in zip(means, stds, clf.cv_results_['params']):\n",
    "            print(\"%0.3f (+/-%0.03f) for %r\"\n",
    "                  % (mean, std * 2, params))\n",
    "        print()\n",
    "\n",
    "        y_true, y_pred = y_test, clf.predict(X_test)\n",
    "        print(classification_report(y_true, y_pred))\n",
    "        print()\n",
    "        print(\"In time = %0.3f\" % (time() - start) )\n",
    "        result = [means, stds, (time()-start)]\n",
    "    return result\n"
   ]
  },
  {
   "cell_type": "code",
   "execution_count": 53,
   "metadata": {},
   "outputs": [
    {
     "name": "stdout",
     "output_type": "stream",
     "text": [
      "# Tuning hyper-parameters for precision\n",
      "()\n",
      "Best parameters set found on development set:\n",
      "()\n",
      "{'kernel': 'rbf', 'C': 10, 'gamma': 0.001}\n",
      "Grid scores on development set:\n",
      "()\n",
      "0.986 (+/-0.016) for {'kernel': 'rbf', 'C': 1, 'gamma': 0.001}\n",
      "0.959 (+/-0.029) for {'kernel': 'rbf', 'C': 1, 'gamma': 0.0001}\n",
      "0.988 (+/-0.017) for {'kernel': 'rbf', 'C': 10, 'gamma': 0.001}\n",
      "0.982 (+/-0.026) for {'kernel': 'rbf', 'C': 10, 'gamma': 0.0001}\n",
      "0.988 (+/-0.017) for {'kernel': 'rbf', 'C': 100, 'gamma': 0.001}\n",
      "0.982 (+/-0.025) for {'kernel': 'rbf', 'C': 100, 'gamma': 0.0001}\n",
      "0.988 (+/-0.017) for {'kernel': 'rbf', 'C': 1000, 'gamma': 0.001}\n",
      "0.982 (+/-0.025) for {'kernel': 'rbf', 'C': 1000, 'gamma': 0.0001}\n",
      "0.975 (+/-0.014) for {'kernel': 'linear', 'C': 1}\n",
      "0.975 (+/-0.014) for {'kernel': 'linear', 'C': 10}\n",
      "0.975 (+/-0.014) for {'kernel': 'linear', 'C': 100}\n",
      "0.975 (+/-0.014) for {'kernel': 'linear', 'C': 1000}\n",
      "()\n",
      "              precision    recall  f1-score   support\n",
      "\n",
      "           0       1.00      1.00      1.00        89\n",
      "           1       0.97      1.00      0.98        90\n",
      "           2       0.99      0.98      0.98        92\n",
      "           3       1.00      0.99      0.99        93\n",
      "           4       1.00      1.00      1.00        76\n",
      "           5       0.99      0.98      0.99       108\n",
      "           6       0.99      1.00      0.99        89\n",
      "           7       0.99      1.00      0.99        78\n",
      "           8       1.00      0.98      0.99        92\n",
      "           9       0.99      0.99      0.99        92\n",
      "\n",
      "   micro avg       0.99      0.99      0.99       899\n",
      "   macro avg       0.99      0.99      0.99       899\n",
      "weighted avg       0.99      0.99      0.99       899\n",
      "\n",
      "()\n",
      "In time = 3.511\n",
      "# Tuning hyper-parameters for recall\n",
      "()\n",
      "Best parameters set found on development set:\n",
      "()\n",
      "{'kernel': 'rbf', 'C': 10, 'gamma': 0.001}\n",
      "Grid scores on development set:\n",
      "()\n",
      "0.986 (+/-0.019) for {'kernel': 'rbf', 'C': 1, 'gamma': 0.001}\n",
      "0.957 (+/-0.029) for {'kernel': 'rbf', 'C': 1, 'gamma': 0.0001}\n",
      "0.987 (+/-0.019) for {'kernel': 'rbf', 'C': 10, 'gamma': 0.001}\n",
      "0.981 (+/-0.028) for {'kernel': 'rbf', 'C': 10, 'gamma': 0.0001}\n",
      "0.987 (+/-0.019) for {'kernel': 'rbf', 'C': 100, 'gamma': 0.001}\n",
      "0.981 (+/-0.026) for {'kernel': 'rbf', 'C': 100, 'gamma': 0.0001}\n",
      "0.987 (+/-0.019) for {'kernel': 'rbf', 'C': 1000, 'gamma': 0.001}\n",
      "0.981 (+/-0.026) for {'kernel': 'rbf', 'C': 1000, 'gamma': 0.0001}\n",
      "0.972 (+/-0.012) for {'kernel': 'linear', 'C': 1}\n",
      "0.972 (+/-0.012) for {'kernel': 'linear', 'C': 10}\n",
      "0.972 (+/-0.012) for {'kernel': 'linear', 'C': 100}\n",
      "0.972 (+/-0.012) for {'kernel': 'linear', 'C': 1000}\n",
      "()\n",
      "              precision    recall  f1-score   support\n",
      "\n",
      "           0       1.00      1.00      1.00        89\n",
      "           1       0.97      1.00      0.98        90\n",
      "           2       0.99      0.98      0.98        92\n",
      "           3       1.00      0.99      0.99        93\n",
      "           4       1.00      1.00      1.00        76\n",
      "           5       0.99      0.98      0.99       108\n",
      "           6       0.99      1.00      0.99        89\n",
      "           7       0.99      1.00      0.99        78\n",
      "           8       1.00      0.98      0.99        92\n",
      "           9       0.99      0.99      0.99        92\n",
      "\n",
      "   micro avg       0.99      0.99      0.99       899\n",
      "   macro avg       0.99      0.99      0.99       899\n",
      "weighted avg       0.99      0.99      0.99       899\n",
      "\n",
      "()\n",
      "In time = 3.569\n"
     ]
    }
   ],
   "source": [
    "GridScores = testGrid(digits)"
   ]
  },
  {
   "cell_type": "code",
   "execution_count": 54,
   "metadata": {},
   "outputs": [
    {
     "name": "stdout",
     "output_type": "stream",
     "text": [
      "# Tuning hyper-parameters for precision\n",
      "()\n"
     ]
    },
    {
     "name": "stderr",
     "output_type": "stream",
     "text": [
      "/home/eoin/.local/lib/python2.7/site-packages/sklearn/model_selection/_search.py:841: DeprecationWarning: The default of the `iid` parameter will change from True to False in version 0.22 and will be removed in 0.24. This will change numeric results when test-set sizes are unequal.\n",
      "  DeprecationWarning)\n"
     ]
    },
    {
     "name": "stdout",
     "output_type": "stream",
     "text": [
      "Grid scores on development set:\n",
      "()\n",
      "0.815 (+/-0.034) for {'max_features': 2, 'min_samples_split': 2, 'bootstrap': False, 'criterion': 'gini', 'max_depth': 3}\n",
      "0.954 (+/-0.039) for {'max_features': 7, 'min_samples_split': 3, 'bootstrap': False, 'criterion': 'gini', 'max_depth': None}\n",
      "0.827 (+/-0.022) for {'max_features': 3, 'min_samples_split': 5, 'bootstrap': False, 'criterion': 'entropy', 'max_depth': 3}\n",
      "0.824 (+/-0.064) for {'max_features': 4, 'min_samples_split': 3, 'bootstrap': False, 'criterion': 'gini', 'max_depth': 3}\n",
      "0.842 (+/-0.040) for {'max_features': 4, 'min_samples_split': 6, 'bootstrap': True, 'criterion': 'gini', 'max_depth': 3}\n",
      "0.951 (+/-0.024) for {'max_features': 4, 'min_samples_split': 4, 'bootstrap': True, 'criterion': 'entropy', 'max_depth': None}\n",
      "0.950 (+/-0.030) for {'max_features': 7, 'min_samples_split': 3, 'bootstrap': False, 'criterion': 'entropy', 'max_depth': None}\n",
      "0.831 (+/-0.058) for {'max_features': 4, 'min_samples_split': 6, 'bootstrap': False, 'criterion': 'entropy', 'max_depth': 3}\n",
      "0.812 (+/-0.055) for {'max_features': 2, 'min_samples_split': 4, 'bootstrap': False, 'criterion': 'gini', 'max_depth': 3}\n",
      "0.825 (+/-0.062) for {'max_features': 9, 'min_samples_split': 2, 'bootstrap': True, 'criterion': 'entropy', 'max_depth': 3}\n",
      "0.811 (+/-0.053) for {'max_features': 2, 'min_samples_split': 4, 'bootstrap': False, 'criterion': 'gini', 'max_depth': 3}\n",
      "0.943 (+/-0.026) for {'max_features': 4, 'min_samples_split': 4, 'bootstrap': True, 'criterion': 'gini', 'max_depth': None}\n",
      "0.775 (+/-0.085) for {'max_features': 1, 'min_samples_split': 7, 'bootstrap': True, 'criterion': 'entropy', 'max_depth': 3}\n",
      "0.837 (+/-0.032) for {'max_features': 4, 'min_samples_split': 7, 'bootstrap': True, 'criterion': 'entropy', 'max_depth': 3}\n",
      "0.806 (+/-0.027) for {'max_features': 10, 'min_samples_split': 8, 'bootstrap': False, 'criterion': 'gini', 'max_depth': 3}\n",
      "0.941 (+/-0.019) for {'max_features': 6, 'min_samples_split': 8, 'bootstrap': True, 'criterion': 'gini', 'max_depth': None}\n",
      "0.830 (+/-0.081) for {'max_features': 8, 'min_samples_split': 7, 'bootstrap': True, 'criterion': 'entropy', 'max_depth': 3}\n",
      "0.817 (+/-0.045) for {'max_features': 2, 'min_samples_split': 6, 'bootstrap': False, 'criterion': 'entropy', 'max_depth': 3}\n",
      "0.952 (+/-0.022) for {'max_features': 7, 'min_samples_split': 3, 'bootstrap': False, 'criterion': 'entropy', 'max_depth': None}\n",
      "0.842 (+/-0.060) for {'max_features': 5, 'min_samples_split': 8, 'bootstrap': True, 'criterion': 'gini', 'max_depth': 3}\n",
      "()\n",
      "              precision    recall  f1-score   support\n",
      "\n",
      "           0       0.98      1.00      0.99        89\n",
      "           1       0.91      1.00      0.95        90\n",
      "           2       0.99      0.96      0.97        92\n",
      "           3       0.96      0.95      0.95        93\n",
      "           4       0.97      0.99      0.98        76\n",
      "           5       0.94      0.92      0.93       108\n",
      "           6       0.98      0.98      0.98        89\n",
      "           7       0.94      1.00      0.97        78\n",
      "           8       0.99      0.88      0.93        92\n",
      "           9       0.92      0.92      0.92        92\n",
      "\n",
      "   micro avg       0.96      0.96      0.96       899\n",
      "   macro avg       0.96      0.96      0.96       899\n",
      "weighted avg       0.96      0.96      0.96       899\n",
      "\n",
      "()\n",
      "In time = 5.534\n",
      "# Tuning hyper-parameters for recall\n",
      "()\n",
      "Grid scores on development set:\n",
      "()\n",
      "0.830 (+/-0.028) for {'max_features': 5, 'min_samples_split': 10, 'bootstrap': True, 'criterion': 'entropy', 'max_depth': 3}\n",
      "0.929 (+/-0.016) for {'max_features': 1, 'min_samples_split': 5, 'bootstrap': True, 'criterion': 'gini', 'max_depth': None}\n",
      "0.948 (+/-0.033) for {'max_features': 2, 'min_samples_split': 3, 'bootstrap': False, 'criterion': 'gini', 'max_depth': None}\n",
      "0.944 (+/-0.049) for {'max_features': 4, 'min_samples_split': 10, 'bootstrap': True, 'criterion': 'entropy', 'max_depth': None}\n",
      "0.954 (+/-0.028) for {'max_features': 6, 'min_samples_split': 9, 'bootstrap': False, 'criterion': 'entropy', 'max_depth': None}\n",
      "0.945 (+/-0.035) for {'max_features': 9, 'min_samples_split': 7, 'bootstrap': True, 'criterion': 'gini', 'max_depth': None}\n",
      "0.843 (+/-0.046) for {'max_features': 6, 'min_samples_split': 4, 'bootstrap': False, 'criterion': 'entropy', 'max_depth': 3}\n",
      "0.829 (+/-0.062) for {'max_features': 3, 'min_samples_split': 8, 'bootstrap': False, 'criterion': 'gini', 'max_depth': 3}\n",
      "0.951 (+/-0.033) for {'max_features': 4, 'min_samples_split': 6, 'bootstrap': False, 'criterion': 'gini', 'max_depth': None}\n",
      "0.796 (+/-0.052) for {'max_features': 10, 'min_samples_split': 6, 'bootstrap': False, 'criterion': 'gini', 'max_depth': 3}\n",
      "0.951 (+/-0.023) for {'max_features': 5, 'min_samples_split': 3, 'bootstrap': True, 'criterion': 'entropy', 'max_depth': None}\n",
      "0.826 (+/-0.026) for {'max_features': 9, 'min_samples_split': 5, 'bootstrap': True, 'criterion': 'gini', 'max_depth': 3}\n",
      "0.844 (+/-0.075) for {'max_features': 4, 'min_samples_split': 10, 'bootstrap': False, 'criterion': 'gini', 'max_depth': 3}\n",
      "0.950 (+/-0.025) for {'max_features': 4, 'min_samples_split': 4, 'bootstrap': True, 'criterion': 'gini', 'max_depth': None}\n",
      "0.808 (+/-0.057) for {'max_features': 8, 'min_samples_split': 3, 'bootstrap': False, 'criterion': 'gini', 'max_depth': 3}\n",
      "0.942 (+/-0.039) for {'max_features': 4, 'min_samples_split': 10, 'bootstrap': True, 'criterion': 'entropy', 'max_depth': None}\n",
      "0.831 (+/-0.051) for {'max_features': 9, 'min_samples_split': 2, 'bootstrap': True, 'criterion': 'gini', 'max_depth': 3}\n",
      "0.850 (+/-0.043) for {'max_features': 5, 'min_samples_split': 9, 'bootstrap': True, 'criterion': 'entropy', 'max_depth': 3}\n",
      "0.953 (+/-0.012) for {'max_features': 6, 'min_samples_split': 2, 'bootstrap': False, 'criterion': 'entropy', 'max_depth': None}\n",
      "0.826 (+/-0.023) for {'max_features': 9, 'min_samples_split': 8, 'bootstrap': True, 'criterion': 'gini', 'max_depth': 3}\n",
      "()\n",
      "              precision    recall  f1-score   support\n",
      "\n",
      "           0       0.97      1.00      0.98        89\n",
      "           1       0.91      0.96      0.93        90\n",
      "           2       0.98      0.92      0.95        92\n",
      "           3       0.89      0.92      0.91        93\n",
      "           4       0.96      0.99      0.97        76\n",
      "           5       0.94      0.94      0.94       108\n",
      "           6       0.98      0.98      0.98        89\n",
      "           7       0.94      1.00      0.97        78\n",
      "           8       0.93      0.84      0.88        92\n",
      "           9       0.94      0.91      0.93        92\n",
      "\n",
      "   micro avg       0.94      0.94      0.94       899\n",
      "   macro avg       0.94      0.95      0.94       899\n",
      "weighted avg       0.94      0.94      0.94       899\n",
      "\n",
      "()\n",
      "In time = 6.103\n"
     ]
    },
    {
     "name": "stderr",
     "output_type": "stream",
     "text": [
      "/home/eoin/.local/lib/python2.7/site-packages/sklearn/model_selection/_search.py:841: DeprecationWarning: The default of the `iid` parameter will change from True to False in version 0.22 and will be removed in 0.24. This will change numeric results when test-set sizes are unequal.\n",
      "  DeprecationWarning)\n"
     ]
    }
   ],
   "source": [
    "RandScores = testRandom(digits)"
   ]
  },
  {
   "cell_type": "code",
   "execution_count": 55,
   "metadata": {},
   "outputs": [
    {
     "data": {
      "image/png": "[encoded data removed]",
      "text/plain": [
       "<Figure size 432x288 with 1 Axes>"
      ]
     },
     "metadata": {
      "needs_background": "light"
     },
     "output_type": "display_data"
    },
    {
     "data": {
      "image/png": "[encoded data removed]",
      "text/plain": [
       "<Figure size 432x288 with 1 Axes>"
      ]
     },
     "metadata": {
      "needs_background": "light"
     },
     "output_type": "display_data"
    },
    {
     "name": "stdout",
     "output_type": "stream",
     "text": [
      "3.56903290749\n"
     ]
    }
   ],
   "source": [
    "\n",
    "plt.plot(GridScores[0], 'r', label='Grid Search')\n",
    "plt.plot(RandScores[0], 'b', label = 'Random Search')\n",
    "plt.ylabel('Accuracy')\n",
    "plt.xlabel('Iterations')\n",
    "plt.axis([0, 10, .5, 1])\n",
    "plt.legend();\n",
    "plt.show()\n",
    "\n",
    "gridConfidence = (GridScores[1]*2)\n",
    "randConfidence = (RandScores[1]*2)\n",
    "plt.plot(gridConfidence, 'r', label='Grid Search')\n",
    "plt.plot(randConfidence, 'b', label = 'Random Search')\n",
    "plt.ylabel('Confidence Interval')\n",
    "plt.xlabel('Iterations')\n",
    "plt.axis([0, 10, 0, 0.10])\n",
    "plt.show()\n",
    "\n",
    "print(GridScores[2])\n",
    "performance = [GridScores[2], RandScores[2]]\n",
    "objects = ('Grid Search', 'Random Search')\n",
    "y_pos = np.arrange(len(objects))\n",
    "plt.bar(y_pos, performance, align = 'centre', alpha=0.5)\n",
    "plt.xticks(y_pos, objects)\n",
    "plt.ylabel('Time')\n",
    "p"
   ]
  },
  {
   "cell_type": "code",
   "execution_count": null,
   "metadata": {},
   "outputs": [],
   "source": [
    "def testBayes(dataset):\n",
    "    "
   ]
  }
 ],
 "metadata": {
  "kernelspec": {
   "display_name": "Python 2",
   "language": "python",
   "name": "python2"
  },
  "language_info": {
   "codemirror_mode": {
    "name": "ipython",
    "version": 2
   },
   "file_extension": ".py",
   "mimetype": "text/x-python",
   "name": "python",
   "nbconvert_exporter": "python",
   "pygments_lexer": "ipython2",
   "version": "2.7.15rc1"
  }
 },
 "nbformat": 4,
 "nbformat_minor": 2
}
